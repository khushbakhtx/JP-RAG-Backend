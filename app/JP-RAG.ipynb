{
 "cells": [
  {
   "cell_type": "markdown",
   "metadata": {},
   "source": [
    "### Med RAG"
   ]
  },
  {
   "cell_type": "code",
   "execution_count": 1,
   "metadata": {},
   "outputs": [
    {
     "name": "stderr",
     "output_type": "stream",
     "text": [
      "d:\\AI, ML, and Python\\RAG-project\\.venv\\Lib\\site-packages\\tqdm\\auto.py:21: TqdmWarning: IProgress not found. Please update jupyter and ipywidgets. See https://ipywidgets.readthedocs.io/en/stable/user_install.html\n",
      "  from .autonotebook import tqdm as notebook_tqdm\n"
     ]
    }
   ],
   "source": [
    "import json\n",
    "from langchain import hub\n",
    "from langchain.text_splitter import RecursiveCharacterTextSplitter\n",
    "from langchain_community.vectorstores import Chroma\n",
    "from langchain_core.output_parsers import StrOutputParser\n",
    "from langchain_core.runnables import RunnablePassthrough\n",
    "from sentence_transformers import SentenceTransformer\n",
    "from langchain.embeddings import HuggingFaceEmbeddings\n",
    "from langchain.vectorstores import Chroma\n",
    "\n",
    "from langchain.vectorstores import FAISS\n",
    "from openai import OpenAI"
   ]
  },
  {
   "cell_type": "code",
   "execution_count": 3,
   "metadata": {},
   "outputs": [],
   "source": [
    "def load_articles(file_path):\n",
    "    with open(file_path, 'r') as file:\n",
    "        data = json.load(file)\n",
    "    return data['articles']\n",
    "\n",
    "articles = load_articles('../data/articles.json')"
   ]
  },
  {
   "cell_type": "code",
   "execution_count": 4,
   "metadata": {},
   "outputs": [],
   "source": [
    "from langchain.schema import Document\n",
    "\n",
    "documents = [Document(page_content=article['content'], metadata=article.get('metadata', {})) for article in articles]"
   ]
  },
  {
   "cell_type": "code",
   "execution_count": 5,
   "metadata": {},
   "outputs": [],
   "source": [
    "hf_model = SentenceTransformer(\"all-MiniLM-L6-v2\")"
   ]
  },
  {
   "cell_type": "code",
   "execution_count": 6,
   "metadata": {},
   "outputs": [
    {
     "name": "stderr",
     "output_type": "stream",
     "text": [
      "C:\\Users\\LENOVO\\AppData\\Local\\Temp\\ipykernel_6668\\928975099.py:1: LangChainDeprecationWarning: The class `HuggingFaceEmbeddings` was deprecated in LangChain 0.2.2 and will be removed in 1.0. An updated version of the class exists in the :class:`~langchain-huggingface package and should be used instead. To use it run `pip install -U :class:`~langchain-huggingface` and import as `from :class:`~langchain_huggingface import HuggingFaceEmbeddings``.\n",
      "  embedding = HuggingFaceEmbeddings(model_name=\"all-MiniLM-L6-v2\")\n"
     ]
    }
   ],
   "source": [
    "embedding = HuggingFaceEmbeddings(model_name=\"all-MiniLM-L6-v2\")\n",
    "\n",
    "text_splitter = RecursiveCharacterTextSplitter(\n",
    "    chunk_size=1000, \n",
    "    chunk_overlap=200\n",
    "    )\n",
    "splits = text_splitter.split_documents(documents)"
   ]
  },
  {
   "cell_type": "markdown",
   "metadata": {},
   "source": [
    "Retriever"
   ]
  },
  {
   "cell_type": "code",
   "execution_count": 7,
   "metadata": {},
   "outputs": [],
   "source": [
    "vectorstore = FAISS.from_documents(\n",
    "    documents=splits, \n",
    "    embedding=embedding\n",
    "    )\n",
    "retriever = vectorstore.as_retriever(search_kwargs={\"k\": 3})"
   ]
  },
  {
   "cell_type": "markdown",
   "metadata": {},
   "source": [
    "KEY-BERT key word search"
   ]
  },
  {
   "cell_type": "code",
   "execution_count": 8,
   "metadata": {},
   "outputs": [],
   "source": [
    "from keybert import KeyBERT\n",
    "\n",
    "keybert_model = KeyBERT()\n",
    "\n",
    "def extract_keywords_from_text(text, top_n=5):\n",
    "    keywords = keybert_model.extract_keywords(text, keyphrase_ngram_range=(1, 1), stop_words='english', top_n=top_n)\n",
    "    return [keyword[0] for keyword in keywords]\n",
    "\n",
    "def search_using_keywords(user_query, k_candidates=3):\n",
    "    keywords = extract_keywords_from_text(user_query)\n",
    "    \n",
    "    relevant_docs = []\n",
    "    for doc in splits:\n",
    "        doc_keywords = extract_keywords_from_text(doc.page_content)\n",
    "        if any(keyword in doc_keywords for keyword in keywords):\n",
    "            relevant_docs.append(doc)\n",
    "\n",
    "    return relevant_docs[:k_candidates]\n",
    "\n",
    "k_candidates = 3  "
   ]
  },
  {
   "cell_type": "markdown",
   "metadata": {},
   "source": [
    "Generator"
   ]
  },
  {
   "cell_type": "code",
   "execution_count": 9,
   "metadata": {},
   "outputs": [],
   "source": [
    "import openai\n",
    "from openai import OpenAI\n",
    "\n",
    "class LLMClient:\n",
    "    def __init__(self, api_key, model_name=\"meta-llama/Llama-3.2-3B-Instruct\"):\n",
    "        self.client = OpenAI(\n",
    "            base_url=\"https://api-inference.huggingface.co/v1/\",\n",
    "            api_key=api_key\n",
    "        )\n",
    "        self.model_name = model_name\n",
    "\n",
    "    def get_response_from_model(self, context, user_query):\n",
    "        prompt_text = f\"\"\"\n",
    "        Answer the following question based on the context provided:\n",
    "        \n",
    "        Context:\n",
    "        {context}\n",
    "        \n",
    "        Question: \n",
    "        {user_query}\n",
    "        \"\"\"\n",
    "\n",
    "        messages = [{\"role\": \"user\", \"content\": prompt_text}]\n",
    "        \n",
    "        completion = self.client.chat.completions.create(\n",
    "            model=self.model_name, \n",
    "            messages=messages, \n",
    "            max_tokens=500\n",
    "        )\n",
    "\n",
    "        return completion.choices[0].message.content"
   ]
  },
  {
   "cell_type": "code",
   "execution_count": 10,
   "metadata": {},
   "outputs": [],
   "source": [
    "api_key = \"hf_**********************************\"  \n",
    "llm_client = LLMClient(api_key)"
   ]
  },
  {
   "cell_type": "code",
   "execution_count": 11,
   "metadata": {},
   "outputs": [],
   "source": [
    "def rag_system(user_query):\n",
    "    retrieved_docs = search_using_keywords(user_query, k_candidates) \n",
    "    context = \"\\n\".join([doc.page_content for doc in retrieved_docs])\n",
    "    response = llm_client.get_response_from_model(context, user_query)\n",
    "    return response"
   ]
  },
  {
   "cell_type": "code",
   "execution_count": 12,
   "metadata": {},
   "outputs": [
    {
     "name": "stdout",
     "output_type": "stream",
     "text": [
      "Response from RAG: The text does not mention a person named Peterson, but rather refers to a young man as the narrator's acquaintance. However, based on the context provided, it can be inferred that the young man believes that opportunities often lie in places others avoid because:\n",
      "\n",
      "1. He has experienced being near the bottom and feeling resentful, which limited his initial perception of a particular place (in this case, a restaurant).\n",
      "2. He had to work hard, get along with difficult cooks, be polite with customers, and pay attention constantly in order to do a good job.\n",
      "3. As he worked diligently, he realized that every place he might find himself in had more potential than he initially thought, and that the circumstances he perceived as dire were not entirely unfounded.\n",
      "\n",
      "In essence, the young man believes that opportunities lie in places others avoid because he was willing to confront the challenges and view his situation with a fresh perspective, rather than letting his initial perceptions hold him back.\n"
     ]
    }
   ],
   "source": [
    "user_query = \"Why does Peterson believe that opportunities often lie in places others avoid?\"\n",
    "response = rag_system(user_query)\n",
    "\n",
    "print(\"Response from RAG:\", response)"
   ]
  },
  {
   "cell_type": "code",
   "execution_count": null,
   "metadata": {},
   "outputs": [],
   "source": [
    "import json\n",
    "\n",
    "questions = [\n",
    "    \"Why does Jordan Peterson emphasize the importance of preserving social institutions?\",\n",
    "    \"How does Peterson explain the balance between order and chaos in society?\",\n",
    "    \"What is the significance of respecting creative achievement in the modern world?\",\n",
    "    \"How does Peterson relate social institutions to personal stability?\",\n",
    "    \"Why does Peterson warn against carelessly criticizing systems we do not fully understand?\",\n",
    "    \"What does 'the fog' represent in this rule?\",\n",
    "    \"Why is it important to confront and address hidden truths in our lives?\",\n",
    "    \"How does avoiding clarity lead to unnecessary suffering?\",\n",
    "    \"What strategies does Peterson suggest for facing the 'fog' in one's life?\",\n",
    "    \"How can this rule be applied in personal relationships?\",\n",
    "    \"What does it mean to 'imagine who you could be'?\",\n",
    "    \"How can focusing on a clear goal improve one's life trajectory?\",\n",
    "    \"What role does self-improvement play in this rule?\",\n",
    "    \"How does Peterson explain the importance of single-minded focus on personal growth?\",\n",
    "    \"What advice does Peterson give for overcoming obstacles while pursuing an ideal?\",\n",
    "    \"How can identifying abdicated responsibilities lead to personal growth?\",\n",
    "    \"Why does Peterson believe that opportunities often lie in places others avoid?\",\n",
    "    \"How does taking responsibility for neglected areas create meaning in life?\",\n",
    "    \"What role does responsibility play in developing character?\",\n",
    "    \"How can this rule be applied in professional settings?\",\n",
    "    \"How does Peterson define actions that we 'hate' doing?\",\n",
    "    \"Why is it important to align one's actions with personal values?\",\n",
    "    \"What are the consequences of consistently engaging in activities we despise?\",\n",
    "    \"How can someone recognize when they are doing something they hate?\",\n",
    "    \"How does this rule relate to integrity and authenticity?\",\n",
    "    \"How can focusing on a higher goal change your life's direction?\",\n",
    "    \"What role does discipline play in achieving success according to Peterson?\",\n",
    "    \"Why does Peterson argue that suffering is an unavoidable part of life?\",\n",
    "    \"What does Peterson mean when he talks about the necessity of facing tragedy?\",\n",
    "    \"How does confronting adversity contribute to personal growth?\",\n",
    "    \"How does the idea of 'meaning' differ from 'happiness' in Peterson's view?\",\n",
    "    \"What does Peterson mean when he talks about 'cleaning your room'?\",\n",
    "    \"How can self-care and personal responsibility lead to a better life?\",\n",
    "    \"Why does Peterson suggest that we should tell the truth, even if it’s difficult?\",\n",
    "    \"What is the role of hierarchy in Peterson's worldview?\",\n",
    "    \"How does the idea of 'order' relate to personal discipline and responsibility?\",\n",
    "    \"What are the dangers of radical ideologies according to Peterson?\",\n",
    "    \"How does Peterson explain the relationship between freedom and responsibility?\",\n",
    "    \"What does Peterson say about the role of suffering in the process of individuation?\",\n",
    "    \"How do societal structures influence individual freedom and meaning?\",\n",
    "    \"What role does gratitude play in achieving a meaningful life?\",\n",
    "    \"How can learning from failure contribute to success?\",\n",
    "    \"What is Peterson’s view on the role of fathers in child development?\",\n",
    "    \"Why does Peterson believe that self-sacrifice is necessary for building strong relationships?\",\n",
    "    \"How does the concept of 'standing up straight with your shoulders back' relate to personal empowerment?\",\n",
    "    \"What does Peterson say about the importance of confronting one's fears?\",\n",
    "    \"How can small, incremental improvements lead to a meaningful life?\",\n",
    "    \"What role does the idea of 'narrative' play in Peterson's thinking?\",\n",
    "    \"How does Peterson explain the importance of setting boundaries?\",\n",
    "    \"What does Peterson suggest about the balance between individualism and collectivism?\",\n",
    "    \"How can understanding your past help you shape your future?\",\n",
    "    \"Why does Peterson emphasize the importance of aiming at the highest goal?\",\n",
    "    \"What does Peterson mean by 'life is tragic' and how should we approach it?\",\n",
    "    \"How can we avoid the trap of resentment and bitterness in life?\",\n",
    "    \"What role does meaningful work play in the development of a good life?\",\n",
    "    \"How does Peterson relate responsibility to freedom and choice?\"\n",
    "]\n",
    "\n",
    "def process_questions(questions):\n",
    "    results = []\n",
    "\n",
    "    for question in questions:\n",
    "        response = rag_system(question)\n",
    "\n",
    "        result = {\n",
    "            \"question\": question,\n",
    "            \"answer\": response\n",
    "        }\n",
    "        results.append(result)\n",
    "\n",
    "    return results\n",
    "\n",
    "answers = process_questions(questions)\n",
    "\n",
    "with open(\"questions&answers.json\", \"w\") as file:\n",
    "    json.dump(answers, file, ensure_ascii=False, indent=4)\n"
   ]
  },
  {
   "cell_type": "code",
   "execution_count": 14,
   "metadata": {},
   "outputs": [
    {
     "name": "stdout",
     "output_type": "stream",
     "text": [
      "Question: What does 'the fog' represent in this rule?\n",
      "Answer: In this context, \"the fog\" is a metaphor that represents uncertainty, misconceptions, or misinformation. It symbolizes the idea of unclear or unclear knowledge that may obscure the truth, making it difficult to distinguish between reality and fantasy.\n",
      "\n",
      "In the passage, Scarlett's classroom discussion suggests that following rules may not be sufficient to achieve moral behavior, and thatmetarules or understanding the underlying purpose of rules is more important.\n",
      "\n",
      "Here, \"the fog\" can be seen as the collective uncertainty or lack of clarity surrounding the established rules or moral principles, which may need to be clarified or revised. Scarlett's advice to seek out the truth and confront uncertain situations is meant to convey the importance of dispelling this \"fog\" to make informed decisions and take responsible actions.\n",
      "\n",
      "Question: Why is it important to confront and address hidden truths in our lives?\n",
      "Answer: According to the context, it is essential to confront and address hidden truths in our lives because it allows us to face and overcome our fears, build strength, and become more integrated as a person, at least in the moment. By voluntarily confronting what we are afraid of, we have the opportunity to grow, learn, and potentially strengthen our relationships.\n",
      "\n",
      "On the other hand, ignoring or avoiding these truths can lead to stagnation, \"aging as you drift,\" and a lower probability of achieving our needs and desires. Drifting aimlessly and ignoring our fears can also have negative consequences, such as allowing problems to accumulate and worsen over time.\n",
      "\n",
      "Ultimately, the author suggests that confronting hidden truths is worth the temporary discomfort or fear, as it is a necessary step towards solving problems and achieving personal growth, particularly in relationships like marriage.\n",
      "\n",
      "Question: How does avoiding clarity lead to unnecessary suffering?\n",
      "Answer: The passage suggests that avoiding clarity, specifically by hiding or denying feelings, leads to unnecessary suffering in several ways:\n",
      "\n",
      "1. Delayed resolution: By avoiding clarity, problems persist, and their resolution is delayed. This not only causes suffering but also makes the problem more complicated over time, as the delay accumulates.\n",
      "\n",
      "2. Escalation of emotions: Hiding feelings does not eliminate them; it often amplifies and transforms them into more powerful and debilitating emotions. For instance, ignored jealousy might evolve into resentment, fueling anger and potentially disastrous actions.\n",
      "\n",
      "3. Misdirection: Misconceptions and confusion follow when clarity is avoided, often causing those affected to pursue unproductive solutions or make unwise decisions. This leads to waste of time, energy, and resources.\n",
      "\n",
      "4. Reinforced mental anguish: Many times it is confessed, after the full weight of introspection becomes apparent, that approaching those uncomfortable realities would have brought personal healing, peace or victory over frailties; acknowledgment releases the hold these compacted feelings hold on us.\n",
      " \n",
      "\n",
      " Relationships suffer when hurdles and stressful issues go unaddressed.\n",
      "\n",
      "Question: What strategies does Peterson suggest for facing the 'fog' in one's life?\n",
      "Answer: The \"fog\" in the context of the provided text seems to refer to the challenges, hardships, and uncertainties that life presents. Based on the context, Peterson doesn't explicitly mention \"fog\" as a specific issue, but rather discusses various obstacles such as poor health, misfortune, and personal struggles (e.g., miserable life, doomed marriage, and personal growth). However, based on the themes and messages presented in the text, Peterson suggests the following strategies for navigating these challenges:\n",
      "\n",
      "1. **Stay connected with others**: Having supportive friends and family can make a significant difference in times of crisis. The relationships established with close friends and family can provide emotional support and help reduce feelings of isolation.\n",
      "\n",
      "2. **Appreciate the present moment**: Peterson emphasizes the importance of focusing on the present and recognizing that some things are truly trivial (e.g., the plates on your lunch). By doing so, you can appreciate the small things in life and get them right, even if larger problems persist.\n",
      "\n",
      "3. **Engage in open and honest communication**: Peterson suggests having the courage to express your feelings and try to find a solution to problems that are difficult to resolve. This might be uncomfortable, but it can be liberating and help you move forward.\n",
      "\n",
      "4. **Emphasize personal growth:** Peterson highlights the importance of your potential and encourages you to think about who you could be, beyond just who you are. This mindset can help you find meaning and purpose in your journey through the challenges you face.\n",
      "\n",
      "5. **Recognize the complexity of personal identity:** Peterson emphasizes that you are complex beyond your own understanding, and that your true nature is not fully apparent on the surface. He encourages you to explore and understand yourself more deeply, and to accept the idea that there may be more to you than what you are currently aware of.\n",
      "\n",
      "These suggestions, presented in the provided text, can be seen as strategies for facing difficulties and navigating the \"fog\" in life.\n",
      "\n",
      "Question: How can this rule be applied in personal relationships?\n",
      "Answer: Based on the context provided, the rule that can be applied to personal relationships is:\n",
      "\n",
      "\"It is in the context of special, close relationships that a person learns to bond tightly to another and starts to learn how to treat another person properly while requiring the same in return.\"\n",
      "\n",
      "In other words, forming and maintaining healthy, reciprocal relationships with others is crucial for psychological well-being. People who have good social connections and friendships tend to have better mental health, are more likely to be employed and married, and are less likely to suffer from problems such as depression, anxiety, or antisocial behavior.\n",
      "\n",
      "This rule can be applied in personal relationships in several ways:\n",
      "\n",
      "1. Prioritize building and maintaining close relationships with others, particularly friends and family. This can help you develop social skills, get support and encouragement, and maintain a sense of belonging and identity.\n",
      "2. Focus on developing reciprocal relationships, where both parties are giving and receiving in return. This can help you learn how to treat others with respect and kindness, while also ensuring that you are being treated fairly and respectfully.\n",
      "3. Be mindful of the importance of equality and reciprocity in relationships. Avoid relationships where you are consistently playing the role of the giver, and instead look for relationships where both parties are working together and supporting each other.\n",
      "4. Recognize that having a strong support network can have a significant impact on your mental and physical health. Make an effort to stay connected with others and build healthy relationships in your life.\n",
      "5. Be aware that having no close relationships can have negative consequences for your mental health and overall well-being. Make an effort to connect with others and build meaningful relationships in your life.\n",
      "\n"
     ]
    }
   ],
   "source": [
    "for answer in answers[:10]:\n",
    "    print(f\"Question: {answer['question']}\\nAnswer: {answer['answer']}\\n\")"
   ]
  },
  {
   "cell_type": "markdown",
   "metadata": {},
   "source": [
    "Precision@10"
   ]
  },
  {
   "cell_type": "code",
   "execution_count": 15,
   "metadata": {},
   "outputs": [],
   "source": [
    "rag_QA = [  \n",
    "           {\n",
    "                \"question\": \"Why does Jordan Peterson emphasize the importance of preserving social institutions?\",\n",
    "                \"answer\": \"The context does not mention Jordan, but rather an author who emphasizes the importance of preserving social institutions. The author's reasons for emphasizing the importance of preserving social institutions are as follows:\\n\\n1. The preservation of social institutions is necessary for maintaining balance between too much order and too much chaos in the world.\\n2. Institutions are supported by certain \\\"ancient mechanisms\\\" that stabilize and maintain order, which must be repaired when they falter.\\n3. The preservation of institutions is also necessary to prevent an existential burden, where the world becomes too chaotic due to the lack of stability and structure.\\n4. This balance is preserved through the interaction between social institutions and creative achievement, which suggests that institutions and innovation are intertwined.\\n\\nThe author's ultimate goal is to maintain stability and dynamism in the world, which is dependent on the preservation and adaptation of social institutions.\"\n",
    "            },\n",
    "            {\n",
    "                \"question\": \"How does Peterson explain the balance between order and chaos in society?\",\n",
    "                \"answer\": \"The text does not provide an explanation from Jordan Peterson, but rather a description based on the context provided. \\n\\nAccording to the text, the balance between order and chaos in society is maintained by the hero who embodied the most important of the great forces that make up the human psyche, such as action and perception. This hero serves as a mediator between the twin forces of chaos and order, transforming chaos into habitable order and recasting order into chaos so it can be renewed. The hero's actions are driven by a higher value or end place, which gives society direction and meaning, preventing everything from sinking into meaninglessness and boredom.\"\n",
    "            },\n",
    "            {\n",
    "                \"question\": \"What is the significance of respecting creative achievement in the modern world?\",\n",
    "                \"answer\": \"The passage suggests that respecting creative achievement is significant in the modern world because it allows for a balance between stability and dynamism. It implies that respecting creativity helps keep the world \\\"balanced on the narrow line between too much order and too much chaos.\\\" \\n\\nIn essence, respecting creative achievement means valuing and supporting the innovative ideas and contributions that shape our world. It requires acknowledging that every creative act, no matter how original or groundbreaking, is likely to transform itself into a useful rule over time. \\n\\nThis process of respecting creative achievement is essential because it helps fix the perceived \\\"terrible conundrum\\\" between order and chaos. By respecting creativity, we can repair and evolve our social institutions, ensuring they remain \\\"alive and healthy.\\\" \\n\\nIn summary, the significance of respecting creative achievement in the modern world is that it helps maintain a delicate balance between stability and innovation, ultimately contributing to the stability and dynamism of our world.\"\n",
    "            },\n",
    "            {\n",
    "                \"question\": \"How does Peterson relate social institutions to personal stability?\",\n",
    "                \"answer\": \"In the context, relative to social institutions and personal stability, Jordan Peterson relates social institutions to personal stability by stating that our institutions remain \\\"alive and healthy\\\" only when our endeavors are \\\"subsumed under the perfection—the sacredness—of that dual ability.\\\" \\n\\nIn other words, the stability and effectiveness of societal institutions are directly tied to how individuals align their personal values and behaviors with those of the institutions. When individuals' personal goals and pursuits are in harmony with the values and expectations of the institutions, they contribute to the overall stability and dynamism of the society. \\n\\nPeterson suggests that social institutions and personal stability are interconnected and that our personal behavior and values must be in line with the social institutions in order to maintain overall stability.\"\n",
    "            },\n",
    "            {\n",
    "                \"question\": \"Why does Peterson warn against carelessly criticizing systems we do not fully understand?\",\n",
    "                \"answer\": \"There is no mention of Peterson in the provided context. The text discusses Freud's ideas on self-deception and defense mechanisms, but it does not mention Jordan Peterson or any warnings he may have about critiquing complex systems. Therefore, based on the provided context, it's impossible to answer the question.\"\n",
    "            },\n",
    "            {\n",
    "                \"question\": \"What does 'the fog' represent in this rule?\",\n",
    "                \"answer\": \"In the context of the provided passage, 'the fog' likely represents the uncertainty, ignorance, or misunderstanding of the rules being referred to. It symbolizes the misty or unclear nature of one's knowledge or comprehension of the rules, allowing for the possibility of either understanding their true necessity and sacredness or not doing so.\\n\\nIn the rule, the author encourages individuals to \\\"disperse the fog\\\" and \\\"find out what is true\\\" by exploring and understanding the rules. This suggests that the 'fog' represents the unknown, the unclear, or the potentially deceiving nature of one's current understanding of the rules.\\n\\nIn essence, 'the fog' is a metaphor for the potential for confusion, ignorance, or misinterpretation of the rules, and the phrase \\\"disperse the fog\\\" implies seeking clarity, understanding, and enlightenment to move forward with moral action.\"\n",
    "            },\n",
    "            {\n",
    "                \"question\": \"Why is it important to confront and address hidden truths in our lives?\",\n",
    "                \"answer\": \"According to the provided context, it is essential to confront and address hidden truths in our lives because taking responsibility can lead to finding a meaningful path, improving our personal lot psychologically, and genuinely making what is intolerably wrong better. It allows us to have our cake and eat it, too, meaning we can address problems while also creating a better life for ourselves.\"\n",
    "            },\n",
    "            {\n",
    "                \"question\": \"How does avoiding clarity lead to unnecessary suffering?\",\n",
    "                \"answer\": \"According to the context, avoiding clarity leads to unnecessary suffering by creating a \\\"life murky and foggy; leaves it void, unseen, without form, confused—and leaves you bewildered and astonished.\\\" This implies that a lack of clarity can cause a lack of understanding and insight, which can lead to poor decision making, mistakes, and a sense of confusion and disorientation, ultimately resulting in unnecessary suffering.\"\n",
    "            },\n",
    "            {\n",
    "                \"question\": \"What strategies does Peterson suggest for facing the 'fog' in one's life?\",\n",
    "                \"answer\": \"The text does not directly mention the word'strategies' for facing the 'fog' in life, but rather presents characteristics and traits of an individual who chooses to face the 'fog.'\\n\\nPeterson suggests that one needs to possess the following qualities to face the 'fog':\\n\\n1. Careful aim: He requires a focused and deliberate approach to addressing the challenges in life.\\n2. Wakeful striving and commitment: One needs to be fully engaged and dedicated to overcoming the obstacles in life.\\n\\nAdditionally, the text emphasizes the importance of 'purest of motivations', the willingness to confront error and change, and the ability to communicate genuinely and honestly.\"\n",
    "            },\n",
    "            {\n",
    "                \"question\": \"How can this rule be applied in personal relationships?\",\n",
    "                \"answer\": \"Based on the context provided, this rule seems to be about cultivating a sense of peer regulation through maintaining good relationships with colleagues and friends, and employing an emergent ethic in personal relationships. Here's a possible application of this rule in personal relationships:\\n\\nTo apply this rule, consider the following steps:\\n\\n1. **Nurture and work on building strong relationships**: As you do with colleagues, strive to create meaningful connections with family and friends. This will help you establish an \\\"emergent pattern\\\" of behavior that is accepted and admired by others.\\n2. **Understand social norms and expectations**: Pay attention to the unwritten rules and expectations that govern relationships in your social circle. This will help you calculate how your behavior will be perceived over time and by others.\\n3. **Strive for consistency and continuity**: Consistency is key to earning respect and trust in personal relationships. By behaving in a responsible and ethical manner across time and situations, you'll establish a pattern that others will respond to positively.\\n4. **Aspire to be a \\\"Great Player\\\"**: By modeling positive behavior, empathy, and mutual respect, you'll attract like-minded individuals and strengthen your relationships.\\n5. **Pay attention to how others respond to you**: Observe how others react to your behavior and adjust your actions accordingly. If someone disapproves or criticism, reflect on why this is the case and make adjustments to improve.\\n6. **Prioritize empathy and understanding**: By actively listening and trying to see things from others' perspectives, you'll build stronger connections and foster a sense of trust and cooperation.\\n\\nBy applying these steps, you can cultivate an emergent ethic in personal relationships, fostering stronger, more meaningful connections with others and contributing to the overall \\\"well-being of the social group.\\\"\"\n",
    "            }\n",
    "]\n",
    "\n",
    "relevant_answers = [\n",
    "    \"Jordan Peterson emphasizes preserving social institutions because they provide stability, meaning, and structure to society. These institutions, such as family, education, and law, help maintain order and safeguard individual well-being, fostering cooperation and shared values that allow society to function effectively.\",\n",
    "    \"Peterson explains that order and chaos are complementary forces that need to be balanced. Order provides structure, stability, and predictability, while chaos fosters creativity and growth. A healthy society requires a balance between the two: too much order leads to rigidity, and too much chaos leads to disorder. Both are essential for progress and adaptation.\",\n",
    "    \"Peterson highlights that creative achievements push society forward by bringing new ideas and solutions. In the modern world, respecting and fostering creativity is vital for progress, innovation, and addressing complex challenges.\",\n",
    "    \"Peterson relates social institutions to personal stability by explaining that they offer structure and meaning. They provide a framework that helps individuals navigate life’s complexities, promoting a sense of security and purpose.\",\n",
    "    \"Peterson warns against carelessly criticizing systems we don’t fully understand because such actions can lead to unintended consequences. He argues that social systems, though imperfect, have evolved over time to balance complex needs, and blindly dismantling them can cause chaos and harm.\",\n",
    "    \"It means envisioning your highest potential and the best version of yourself, using that vision as a guide to shape your actions and decisions.\",\n",
    "    \"Focusing on a clear goal provides direction, motivation, and purpose, which helps channel efforts more effectively and leads to a more fulfilling life trajectory.\",\n",
    "    \"Self-improvement is crucial as it helps individuals progress toward their ideal version of themselves, making them better equipped to face life's challenges and reach their goals.\",\n",
    "    \"Peterson stresses that relentless focus on personal growth enables you to overcome distractions and build the discipline and resilience needed to transform your life.\",\n",
    "    \"Peterson advises breaking down obstacles into manageable steps, confronting them courageously, and staying committed to the ideal, even when progress is slow or difficult.\"\n",
    "]"
   ]
  },
  {
   "cell_type": "code",
   "execution_count": 18,
   "metadata": {},
   "outputs": [],
   "source": [
    "from sentence_transformers import SentenceTransformer\n",
    "from sklearn.metrics.pairwise import cosine_similarity\n",
    "\n",
    "def calculate_cosine_similarity(answer, relevant_answer):\n",
    "    embeddings = hf_model.encode([answer, relevant_answer])\n",
    "    return cosine_similarity([embeddings[0]], [embeddings[1]])[0][0]\n"
   ]
  },
  {
   "cell_type": "code",
   "execution_count": 31,
   "metadata": {},
   "outputs": [
    {
     "name": "stdout",
     "output_type": "stream",
     "text": [
      "Precision@10: 0.70\n"
     ]
    }
   ],
   "source": [
    "def calculate_precision_at_10(rag_QA, relevant_answers, threshold=0.4):\n",
    "    precision_at_10 = 0\n",
    "    total_queries = len(rag_QA)\n",
    "\n",
    "    for i in range(total_queries):\n",
    "        question = rag_QA[i][\"question\"]\n",
    "        rag_answer = rag_QA[i][\"answer\"]\n",
    "        correct_answer = relevant_answers[i] \n",
    "\n",
    "        cosine_sim = calculate_cosine_similarity(rag_answer, correct_answer)\n",
    "\n",
    "        if cosine_sim >= threshold:\n",
    "            precision_at_10 += 1  \n",
    "\n",
    "    return precision_at_10 / total_queries\n",
    "\n",
    "precision_at_10 = calculate_precision_at_10(rag_QA, relevant_answers)\n",
    "\n",
    "print(f\"Precision@10: {precision_at_10:.2f}\")"
   ]
  },
  {
   "cell_type": "markdown",
   "metadata": {},
   "source": [
    "Q50, Q90, Q99"
   ]
  },
  {
   "cell_type": "code",
   "execution_count": 33,
   "metadata": {},
   "outputs": [
    {
     "name": "stdout",
     "output_type": "stream",
     "text": [
      "Precision@10: 1.00\n",
      "q50 (median) response time: 34.1687 seconds\n",
      "q90 response time: 37.8529 seconds\n",
      "q99 response time: 37.9644 seconds\n"
     ]
    }
   ],
   "source": [
    "import time\n",
    "import numpy as np\n",
    "\n",
    "def measure_response_time(query):\n",
    "    start_time = time.time()\n",
    "    response = rag_system(query)  \n",
    "    end_time = time.time()\n",
    "    return end_time - start_time\n",
    "\n",
    "queries = [\n",
    "    \"Why does Jordan Peterson emphasize the importance of preserving social institutions?\",\n",
    "    \"How does Peterson explain the balance between order and chaos in society?\",\n",
    "    \"What is the significance of respecting creative achievement in the modern world?\",\n",
    "    \"How does Peterson relate social institutions to personal stability?\",\n",
    "    \"Why does Peterson warn against carelessly criticizing systems we do not fully understand?\",\n",
    "    \"What does 'the fog' represent in this rule?\",\n",
    "    \"Why is it important to confront and address hidden truths in our lives?\",\n",
    "    \"How does avoiding clarity lead to unnecessary suffering?\",\n",
    "    \"What strategies does Peterson suggest for facing the 'fog' in one's life?\",\n",
    "    \"How can this rule be applied in personal relationships?\"\n",
    "]\n",
    "\n",
    "response_times = []\n",
    "\n",
    "for query in queries:\n",
    "    response_time = measure_response_time(query)\n",
    "    response_times.append(response_time)  \n",
    "\n",
    "q50 = np.percentile(response_times, 50)\n",
    "q90 = np.percentile(response_times, 90)\n",
    "q99 = np.percentile(response_times, 99)\n",
    "\n",
    "print(f\"Precision@10: {precision_at_10:.2f}\")\n",
    "print(f\"q50 (median) response time: {q50:.4f} seconds\")\n",
    "print(f\"q90 response time: {q90:.4f} seconds\")\n",
    "print(f\"q99 response time: {q99:.4f} seconds\")"
   ]
  }
 ],
 "metadata": {
  "kernelspec": {
   "display_name": ".venv",
   "language": "python",
   "name": "python3"
  },
  "language_info": {
   "codemirror_mode": {
    "name": "ipython",
    "version": 3
   },
   "file_extension": ".py",
   "mimetype": "text/x-python",
   "name": "python",
   "nbconvert_exporter": "python",
   "pygments_lexer": "ipython3",
   "version": "3.12.2"
  }
 },
 "nbformat": 4,
 "nbformat_minor": 2
}
